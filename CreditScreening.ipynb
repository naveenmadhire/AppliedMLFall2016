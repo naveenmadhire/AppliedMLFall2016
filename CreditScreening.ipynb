{
 "worksheets": [
  {
   "cells": [
    {
     "cell_type": "heading",
     "metadata": {},
     "level": 4,
     "source": [
      "Logistic Reasoning Modelling - Credit Screening dataset http://mlr.cs.umass.edu/ml/datasets/Credit+Approval"
     ]
    },
    {
     "cell_type": "code",
     "execution_count": null,
     "metadata": {},
     "outputs": [
      {
       "output_type": "stream",
       "stream": "stderr",
       "text": [
        "/Users/poj871/SparkVirtualEnv/lib/python2.7/site-packages/sklearn/cross_validation.py:44: DeprecationWarning: This module was deprecated in version 0.18 in favor of the model_selection module into which all the refactored classes and functions are moved. Also note that the interface of the new CV iterators are different from that of this module. This module will be removed in 0.20.\n  \"This module will be removed in 0.20.\", DeprecationWarning)\n"
       ]
      }
     ],
     "input": [
      "#Importing all the required packages\n",
      "\n",
      "# show plots in the notebook\n",
      "%matplotlib inline\n",
      "\n",
      "import pandas as pd\n",
      "import numpy as np\n",
      "\n",
      "from sklearn.linear_model import LogisticRegression\n",
      "from sklearn import tree\n",
      "from sklearn.cross_validation import train_test_split\n",
      "from sklearn.metrics import roc_curve, auc, confusion_matrix\n",
      "from sklearn import metrics\n",
      "import matplotlib.pyplot as plt"
     ],
     "language": "python",
     "prompt_number": 1
    },
    {
     "cell_type": "code",
     "execution_count": null,
     "metadata": {},
     "outputs": [
      {
       "output_type": "stream",
       "stream": "stdout",
       "text": [
        "  Male    Age  Debt Married BankCustomer EducationalLevel Ethnicity  \\\n0    b  30.83  0.00       u            g                w         v   \n1    a  58.67  4.46       u            g                q         h   \n\n   YearsEmployed PriorDefault Employed  CreditScore DriversLicense Citizen  \\\n0           1.25            t        t            1              f       g   \n1           3.04            t        t            6              f       g   \n\n  ZipCode  Income Approved  \n0   00202       0        +  \n1   00043     560        +  \nMale                690\nAge                 690\nDebt                690\nMarried             690\nBankCustomer        690\nEducationalLevel    690\nEthnicity           690\nYearsEmployed       690\nPriorDefault        690\nEmployed            690\nCreditScore         690\nDriversLicense      690\nCitizen             690\nZipCode             690\nIncome              690\nApproved            690\ndtype: int64\n"
       ]
      }
     ],
     "input": [
      "inputDataset = pd.DataFrame.from_csv(path=\"/Users/poj871/IUCourse/Fall2016/Project/CreditScreening.csv\", index_col=None)\n",
      "\n",
      "print inputDataset.head(2)\n",
      "\n",
      "print inputDataset.count()"
     ],
     "language": "python",
     "prompt_number": 2
    },
    {
     "cell_type": "heading",
     "metadata": {},
     "level": 3,
     "source": [
      "Drop rows with Missing values "
     ]
    },
    {
     "cell_type": "code",
     "execution_count": null,
     "metadata": {},
     "outputs": [
      {
       "output_type": "stream",
       "stream": "stdout",
       "text": [
        "Male                653\nAge                 653\nDebt                653\nMarried             653\nBankCustomer        653\nEducationalLevel    653\nEthnicity           653\nYearsEmployed       653\nPriorDefault        653\nEmployed            653\nCreditScore         653\nDriversLicense      653\nCitizen             653\nZipCode             653\nIncome              653\nApproved            653\ndtype: int64\n"
       ]
      }
     ],
     "input": [
      "inputDataset = inputDataset.dropna()\n",
      "\n",
      "#Droping with missing Male features\n",
      "inputDataset = inputDataset.drop(inputDataset[inputDataset['Male'] == '?'].index)\n",
      "\n",
      "\n",
      "#Dropping with missing Age Features\n",
      "inputDataset = inputDataset.drop(inputDataset[inputDataset['Age'] == '?'].index)\n",
      "\n",
      "#Dropping with missing Married Features\n",
      "\n",
      "inputDataset = inputDataset.drop(inputDataset[inputDataset['Married'] == '?'].index)\n",
      "\n",
      "inputDataset = inputDataset.drop(inputDataset[inputDataset['BankCustomer'] == '?'].index)\n",
      "\n",
      "inputDataset = inputDataset.drop(inputDataset[inputDataset['EducationalLevel'] == '?'].index)\n",
      "\n",
      "inputDataset = inputDataset.drop(inputDataset[inputDataset['Ethnicity'] == '?'].index)\n",
      "\n",
      "inputDataset = inputDataset.drop(inputDataset[inputDataset['ZipCode'] == '?'].index)\n",
      "print inputDataset.count()"
     ],
     "language": "python",
     "prompt_number": 3
    },
    {
     "cell_type": "heading",
     "metadata": {},
     "level": 3,
     "source": [
      "Adding categorical datatypes"
     ]
    },
    {
     "cell_type": "code",
     "execution_count": null,
     "metadata": {},
     "outputs": [
      {
       "output_type": "stream",
       "stream": "stdout",
       "text": [
        "Male                category\nAge                   object\nDebt                 float64\nMarried             category\nBankCustomer        category\nEducationalLevel    category\nEthnicity           category\nYearsEmployed        float64\nPriorDefault        category\nEmployed            category\nCreditScore            int64\nDriversLicense      category\nCitizen             category\nZipCode               object\nIncome                 int64\nApproved            category\ndtype: object\n"
       ]
      }
     ],
     "input": [
      "inputDataset['Male'] = inputDataset['Male'].astype('category')\n",
      "\n",
      "inputDataset['Married'] = inputDataset['Married'].astype('category')\n",
      "\n",
      "inputDataset['BankCustomer'] = inputDataset['BankCustomer'].astype('category')\n",
      "\n",
      "inputDataset['EducationalLevel'] = inputDataset['EducationalLevel'].astype('category')\n",
      "\n",
      "inputDataset['Ethnicity'] = inputDataset['Ethnicity'].astype('category')\n",
      "\n",
      "inputDataset['PriorDefault'] = inputDataset['PriorDefault'].astype('category')\n",
      "\n",
      "inputDataset['Employed'] = inputDataset['Employed'].astype('category')\n",
      "\n",
      "inputDataset['DriversLicense'] = inputDataset['DriversLicense'].astype('category')\n",
      "\n",
      "inputDataset['Citizen'] = inputDataset['Citizen'].astype('category')\n",
      "\n",
      "#Class label\n",
      "inputDataset['Approved'] = inputDataset['Approved'].astype('category')\n",
      "\n",
      "\n",
      "print inputDataset.dtypes"
     ],
     "language": "python",
     "prompt_number": 4
    },
    {
     "cell_type": "heading",
     "metadata": {},
     "level": 3,
     "source": [
      "Making the output label as 0 or 1 instead of  '+' or '-'"
     ]
    },
    {
     "cell_type": "code",
     "execution_count": null,
     "metadata": {},
     "outputs": [
      {
       "output_type": "stream",
       "stream": "stdout",
       "text": [
        "   Male    Age  Debt  Married  BankCustomer  EducationalLevel  Ethnicity  \\\n0     1  30.83  0.00        1             0                12          7   \n1     0  58.67  4.46        1             0                10          3   \n\n   YearsEmployed  PriorDefault  Employed  CreditScore  DriversLicense  \\\n0           1.25             1         1            1               0   \n1           3.04             1         1            6               0   \n\n   Citizen ZipCode  Income  Approved  \n0        0   00202       0         0  \n1        0   00043     560         0  \n"
       ]
      }
     ],
     "input": [
      "cat_columns = inputDataset.select_dtypes(['category']).columns\n",
      "\n",
      "inputDataset[cat_columns] = inputDataset[cat_columns].apply(lambda x: x.cat.codes)\n",
      "\n",
      "print inputDataset.head(2)"
     ],
     "language": "python",
     "prompt_number": 5
    },
    {
     "cell_type": "heading",
     "metadata": {},
     "level": 3,
     "source": [
      "Exploring Dataset with GroupBy"
     ]
    },
    {
     "cell_type": "code",
     "execution_count": null,
     "metadata": {},
     "outputs": [
      {
       "output_type": "pyout",
       "html": [
        "<div>\n",
        "<table border=\"1\" class=\"dataframe\">\n",
        "  <thead>\n",
        "    <tr style=\"text-align: right;\">\n",
        "      <th></th>\n",
        "      <th>Male</th>\n",
        "      <th>Debt</th>\n",
        "      <th>Married</th>\n",
        "      <th>BankCustomer</th>\n",
        "      <th>EducationalLevel</th>\n",
        "      <th>Ethnicity</th>\n",
        "      <th>YearsEmployed</th>\n",
        "      <th>PriorDefault</th>\n",
        "      <th>Employed</th>\n",
        "      <th>CreditScore</th>\n",
        "      <th>DriversLicense</th>\n",
        "      <th>Citizen</th>\n",
        "      <th>Income</th>\n",
        "    </tr>\n",
        "    <tr>\n",
        "      <th>Approved</th>\n",
        "      <th></th>\n",
        "      <th></th>\n",
        "      <th></th>\n",
        "      <th></th>\n",
        "      <th></th>\n",
        "      <th></th>\n",
        "      <th></th>\n",
        "      <th></th>\n",
        "      <th></th>\n",
        "      <th></th>\n",
        "      <th></th>\n",
        "      <th></th>\n",
        "      <th></th>\n",
        "    </tr>\n",
        "  </thead>\n",
        "  <tbody>\n",
        "    <tr>\n",
        "      <th>0</th>\n",
        "      <td>0.679054</td>\n",
        "      <td>5.971943</td>\n",
        "      <td>1.14527</td>\n",
        "      <td>0.310811</td>\n",
        "      <td>6.354730</td>\n",
        "      <td>5.054054</td>\n",
        "      <td>3.475186</td>\n",
        "      <td>0.939189</td>\n",
        "      <td>0.685811</td>\n",
        "      <td>4.716216</td>\n",
        "      <td>0.489865</td>\n",
        "      <td>0.104730</td>\n",
        "      <td>2009.726351</td>\n",
        "    </tr>\n",
        "    <tr>\n",
        "      <th>1</th>\n",
        "      <td>0.697479</td>\n",
        "      <td>3.882325</td>\n",
        "      <td>1.29972</td>\n",
        "      <td>0.599440</td>\n",
        "      <td>5.291317</td>\n",
        "      <td>5.109244</td>\n",
        "      <td>1.223725</td>\n",
        "      <td>0.198880</td>\n",
        "      <td>0.235294</td>\n",
        "      <td>0.666667</td>\n",
        "      <td>0.439776</td>\n",
        "      <td>0.215686</td>\n",
        "      <td>187.974790</td>\n",
        "    </tr>\n",
        "  </tbody>\n",
        "</table>\n",
        "</div>"
       ],
       "metadata": {}
      }
     ],
     "input": [
      "inputDataset.groupby('Approved').mean()"
     ],
     "language": "python",
     "prompt_number": 6
    },
    {
     "cell_type": "heading",
     "metadata": {},
     "level": 3,
     "source": [
      "Creating Features and label sets for the model"
     ]
    },
    {
     "cell_type": "code",
     "execution_count": null,
     "metadata": {},
     "outputs": [
      {
       "output_type": "stream",
       "stream": "stdout",
       "text": [
        "int32\n"
       ]
      }
     ],
     "input": [
      "X = inputDataset.values[:, :15]\n",
      "\n",
      "y = inputDataset.values[:, 15:]\n",
      "\n",
      "# Flattening the labels into 1-D array for SkLearn to work\n",
      "y = np.ravel(y)\n",
      "\n",
      "#Converting the datatype to integer\n",
      "y = np.asarray(y, dtype=\"intc\")\n",
      "print y.dtype"
     ],
     "language": "python",
     "prompt_number": 7
    },
    {
     "cell_type": "heading",
     "metadata": {},
     "level": 3,
     "source": [
      "Creating the model based on the features and labels"
     ]
    },
    {
     "cell_type": "code",
     "execution_count": null,
     "metadata": {},
     "outputs": [
      {
       "output_type": "pyout",
       "prompt_number": 8,
       "text": [
        "0.87748851454823895"
       ],
       "metadata": {}
      }
     ],
     "input": [
      "logisticRegressionModel = LogisticRegression()\n",
      "\n",
      "logisticRegressionModel = logisticRegressionModel.fit(X, y)\n",
      "\n",
      "\n",
      "logisticRegressionModel.score(X, y)"
     ],
     "language": "python",
     "prompt_number": 8
    },
    {
     "cell_type": "heading",
     "metadata": {},
     "level": 3,
     "source": [
      "Split the data into training and test to predict on the random test dataset"
     ]
    },
    {
     "cell_type": "code",
     "execution_count": null,
     "metadata": {},
     "outputs": [
      {
       "output_type": "pyout",
       "prompt_number": 9,
       "text": [
        "LogisticRegression(C=1.0, class_weight=None, dual=False, fit_intercept=True,\n          intercept_scaling=1, max_iter=100, multi_class='ovr', n_jobs=1,\n          penalty='l2', random_state=None, solver='liblinear', tol=0.0001,\n          verbose=0, warm_start=False)"
       ],
       "metadata": {}
      }
     ],
     "input": [
      "X_train, X_test, y_train, y_test = train_test_split(X, y, test_size=0.28, random_state=0)\n",
      "\n",
      "trainModel = LogisticRegression()\n",
      "\n",
      "trainModel.fit(X= X_train, y=y_train)"
     ],
     "language": "python",
     "prompt_number": 9
    },
    {
     "cell_type": "heading",
     "metadata": {},
     "level": 3,
     "source": [
      "Predicting the output labels using the model"
     ]
    },
    {
     "cell_type": "code",
     "execution_count": null,
     "metadata": {},
     "outputs": [],
     "input": [
      "predictedLabels = trainModel.predict(X_test)"
     ],
     "language": "python",
     "prompt_number": 10
    },
    {
     "cell_type": "heading",
     "metadata": {},
     "level": 3,
     "source": [
      "Calculating the accuracy score & Confusion Matrix"
     ]
    },
    {
     "cell_type": "code",
     "execution_count": null,
     "metadata": {},
     "outputs": [
      {
       "output_type": "stream",
       "stream": "stdout",
       "text": [
        "0.896174863388\n\n\n[[76  5]\n [14 88]]\n"
       ]
      }
     ],
     "input": [
      "print metrics.accuracy_score(y_test, predictedLabels)\n",
      "\n",
      "print (\"\\n\")\n",
      "print metrics.confusion_matrix(y_test, predictedLabels)"
     ],
     "language": "python",
     "prompt_number": 11
    },
    {
     "cell_type": "heading",
     "metadata": {},
     "level": 4,
     "source": [
      "We can see the accuracy of the Logistic Regression model is 89%"
     ]
    },
    {
     "cell_type": "heading",
     "metadata": {},
     "level": 4,
     "source": [
      "Plot the ROC using Matplotlib"
     ]
    },
    {
     "cell_type": "code",
     "execution_count": null,
     "metadata": {},
     "outputs": [
      {
       "output_type": "stream",
       "stream": "stdout",
       "text": [
        "[ 0.         0.0617284  1.       ]\n[ 0.         0.8627451  1.       ]\n"
       ]
      },
      {
       "output_type": "display_data",
       "png": "[encoded data removed]",
       "text": [
        "<matplotlib.figure.Figure at 0x110ebded0>"
       ],
       "metadata": {}
      }
     ],
     "input": [
      "false_positive_rate, true_positive_rate, thresholds = roc_curve(y_test,predictedLabels)\n",
      "roc_auc = auc(false_positive_rate, true_positive_rate)\n",
      "\n",
      "print false_positive_rate\n",
      "print true_positive_rate\n",
      "\n",
      "plt.title('Receiver Operating Characteristic Logistic Regression')\n",
      "plt.plot(false_positive_rate, true_positive_rate, 'b',\n",
      "label='AUC = %0.2f'% roc_auc)\n",
      "plt.legend(loc='lower right')\n",
      "plt.plot([0,1],[0,1],'r--')\n",
      "plt.xlim([0,1])\n",
      "plt.ylim([0,1])\n",
      "plt.ylabel('True Positive Rate')\n",
      "plt.xlabel('False Positive Rate')\n",
      "plt.show()"
     ],
     "language": "python",
     "prompt_number": 12
    },
    {
     "cell_type": "heading",
     "metadata": {},
     "level": 2,
     "source": [
      "Now using the same training and test splits we are going to model using the decision trees algorithms and compare the accuracy, confusion matrix and ROC area"
     ]
    },
    {
     "cell_type": "code",
     "execution_count": null,
     "metadata": {},
     "outputs": [
      {
       "output_type": "pyout",
       "prompt_number": 13,
       "text": [
        "DecisionTreeClassifier(class_weight=None, criterion='gini', max_depth=None,\n            max_features=None, max_leaf_nodes=None,\n            min_impurity_split=1e-07, min_samples_leaf=1,\n            min_samples_split=2, min_weight_fraction_leaf=0.0,\n            presort=False, random_state=None, splitter='best')"
       ],
       "metadata": {}
      }
     ],
     "input": [
      "decisionTreeModel = tree.DecisionTreeClassifier()\n",
      "\n",
      "decisionTreeModel.fit(X=X_train, y=y_train)"
     ],
     "language": "python",
     "prompt_number": 13
    },
    {
     "cell_type": "heading",
     "metadata": {},
     "level": 3,
     "source": [
      "Predicting the output labels using the Decision Trees Classifier"
     ]
    },
    {
     "cell_type": "code",
     "execution_count": null,
     "metadata": {},
     "outputs": [],
     "input": [
      "predictedLabelsDT = decisionTreeModel.predict(X_test)"
     ],
     "language": "python",
     "prompt_number": 14
    },
    {
     "cell_type": "heading",
     "metadata": {},
     "level": 3,
     "source": [
      "Accuracy and Confusion matrix using the Decision Trees Classifier"
     ]
    },
    {
     "cell_type": "code",
     "execution_count": null,
     "metadata": {},
     "outputs": [
      {
       "output_type": "stream",
       "stream": "stdout",
       "text": [
        "0.868852459016\n\n\n[[67 14]\n [10 92]]\n"
       ]
      }
     ],
     "input": [
      "print metrics.accuracy_score(y_test, predictedLabelsDT)\n",
      "\n",
      "print (\"\\n\")\n",
      "print metrics.confusion_matrix(y_test, predictedLabelsDT)"
     ],
     "language": "python",
     "prompt_number": 15
    },
    {
     "cell_type": "heading",
     "metadata": {},
     "level": 3,
     "source": [
      "Accuracy using the Decision Tree algorithm is 86% on the test dataset"
     ]
    },
    {
     "cell_type": "heading",
     "metadata": {},
     "level": 4,
     "source": [
      "Plotting the ROC"
     ]
    },
    {
     "cell_type": "code",
     "execution_count": null,
     "metadata": {},
     "outputs": [
      {
       "output_type": "stream",
       "stream": "stdout",
       "text": [
        "[ 0.          0.17283951  1.        ]\n[ 0.          0.90196078  1.        ]\n"
       ]
      },
      {
       "output_type": "display_data",
       "png": "[encoded data removed]",
       "text": [
        "<matplotlib.figure.Figure at 0x111081250>"
       ],
       "metadata": {}
      }
     ],
     "input": [
      "false_positive_rate, true_positive_rate, thresholds = roc_curve(y_test,predictedLabelsDT)\n",
      "roc_auc = auc(false_positive_rate, true_positive_rate)\n",
      "\n",
      "print false_positive_rate\n",
      "print true_positive_rate\n",
      "\n",
      "\n",
      "plt.title('Receiver Operating Characteristic Decision Trees')\n",
      "plt.plot(false_positive_rate, true_positive_rate, 'b',\n",
      "label='AUC = %0.2f'% roc_auc)\n",
      "plt.legend(loc='lower right')\n",
      "plt.plot([0,1],[0,1],'r--')\n",
      "plt.xlim([0,1])\n",
      "plt.ylim([0,1])\n",
      "plt.ylabel('True Positive Rate')\n",
      "plt.xlabel('False Positive Rate')\n",
      "plt.show()"
     ],
     "language": "python",
     "prompt_number": 17
    }
   ]
  }
 ],
 "cells": [],
 "metadata": {},
 "nbformat": 3,
 "nbformat_minor": 0
}
