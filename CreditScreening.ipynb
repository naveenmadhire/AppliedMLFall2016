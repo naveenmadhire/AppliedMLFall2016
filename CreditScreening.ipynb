{
 "worksheets": [
  {
   "cells": [
    {
     "cell_type": "heading",
     "metadata": {},
     "level": 4,
     "source": [
      "Logistic Reasoning Modelling - Credit Screening dataset http://mlr.cs.umass.edu/ml/datasets/Credit+Approval"
     ]
    },
    {
     "cell_type": "code",
     "execution_count": null,
     "metadata": {},
     "outputs": [],
     "input": [
      "#Importing all the required packages\n",
      "\n",
      "# show plots in the notebook\n",
      "%matplotlib inline\n",
      "\n",
      "import pandas as pd\n",
      "import numpy as np\n",
      "\n",
      "from sklearn.linear_model import LogisticRegression\n",
      "from sklearn import tree\n",
      "from sklearn.cross_validation import train_test_split\n",
      "from sklearn.metrics import roc_curve, auc, confusion_matrix\n",
      "from sklearn import metrics\n",
      "import matplotlib.pyplot as plt"
     ],
     "language": "python",
     "prompt_number": 13
    },
    {
     "cell_type": "code",
     "execution_count": null,
     "metadata": {},
     "outputs": [
      {
       "output_type": "stream",
       "stream": "stdout",
       "text": [
        "  Male    Age  Debt Married BankCustomer EducationalLevel Ethnicity  \\\n0    b  30.83  0.00       u            g                w         v   \n1    a  58.67  4.46       u            g                q         h   \n\n   YearsEmployed PriorDefault Employed  CreditScore DriversLicense Citizen  \\\n0           1.25            t        t            1              f       g   \n1           3.04            t        t            6              f       g   \n\n  ZipCode  Income Approved  \n0   00202       0        +  \n1   00043     560        +  \nMale                690\nAge                 690\nDebt                690\nMarried             690\nBankCustomer        690\nEducationalLevel    690\nEthnicity           690\nYearsEmployed       690\nPriorDefault        690\nEmployed            690\nCreditScore         690\nDriversLicense      690\nCitizen             690\nZipCode             690\nIncome              690\nApproved            690\ndtype: int64\n"
       ]
      }
     ],
     "input": [
      "inputDataset = pd.DataFrame.from_csv(path=\"/Users/poj871/IUCourse/Fall2016/Project/CreditScreening.csv\", index_col=None)\n",
      "\n",
      "print inputDataset.head(2)\n",
      "\n",
      "print inputDataset.count()"
     ],
     "language": "python",
     "prompt_number": 3
    },
    {
     "cell_type": "heading",
     "metadata": {},
     "level": 3,
     "source": [
      "Drop rows with Missing values "
     ]
    },
    {
     "cell_type": "code",
     "execution_count": null,
     "metadata": {},
     "outputs": [
      {
       "output_type": "stream",
       "stream": "stdout",
       "text": [
        "Male                653\nAge                 653\nDebt                653\nMarried             653\nBankCustomer        653\nEducationalLevel    653\nEthnicity           653\nYearsEmployed       653\nPriorDefault        653\nEmployed            653\nCreditScore         653\nDriversLicense      653\nCitizen             653\nZipCode             653\nIncome              653\nApproved            653\ndtype: int64\n"
       ]
      }
     ],
     "input": [
      "inputDataset = inputDataset.dropna()\n",
      "\n",
      "#Droping with missing Male features\n",
      "inputDataset = inputDataset.drop(inputDataset[inputDataset['Male'] == '?'].index)\n",
      "\n",
      "\n",
      "#Dropping with missing Age Features\n",
      "inputDataset = inputDataset.drop(inputDataset[inputDataset['Age'] == '?'].index)\n",
      "\n",
      "#Dropping with missing Married Features\n",
      "\n",
      "inputDataset = inputDataset.drop(inputDataset[inputDataset['Married'] == '?'].index)\n",
      "\n",
      "inputDataset = inputDataset.drop(inputDataset[inputDataset['BankCustomer'] == '?'].index)\n",
      "\n",
      "inputDataset = inputDataset.drop(inputDataset[inputDataset['EducationalLevel'] == '?'].index)\n",
      "\n",
      "inputDataset = inputDataset.drop(inputDataset[inputDataset['Ethnicity'] == '?'].index)\n",
      "\n",
      "inputDataset = inputDataset.drop(inputDataset[inputDataset['ZipCode'] == '?'].index)\n",
      "print inputDataset.count()"
     ],
     "language": "python",
     "prompt_number": 4
    },
    {
     "cell_type": "heading",
     "metadata": {},
     "level": 3,
     "source": [
      "Adding categorical datatypes"
     ]
    },
    {
     "cell_type": "code",
     "execution_count": null,
     "metadata": {},
     "outputs": [
      {
       "output_type": "stream",
       "stream": "stdout",
       "text": [
        "Male                category\nAge                   object\nDebt                 float64\nMarried             category\nBankCustomer        category\nEducationalLevel    category\nEthnicity           category\nYearsEmployed        float64\nPriorDefault        category\nEmployed            category\nCreditScore            int64\nDriversLicense      category\nCitizen             category\nZipCode               object\nIncome                 int64\nApproved            category\ndtype: object\n"
       ]
      }
     ],
     "input": [
      "inputDataset['Male'] = inputDataset['Male'].astype('category')\n",
      "\n",
      "inputDataset['Married'] = inputDataset['Married'].astype('category')\n",
      "\n",
      "inputDataset['BankCustomer'] = inputDataset['BankCustomer'].astype('category')\n",
      "\n",
      "inputDataset['EducationalLevel'] = inputDataset['EducationalLevel'].astype('category')\n",
      "\n",
      "inputDataset['Ethnicity'] = inputDataset['Ethnicity'].astype('category')\n",
      "\n",
      "inputDataset['PriorDefault'] = inputDataset['PriorDefault'].astype('category')\n",
      "\n",
      "inputDataset['Employed'] = inputDataset['Employed'].astype('category')\n",
      "\n",
      "inputDataset['DriversLicense'] = inputDataset['DriversLicense'].astype('category')\n",
      "\n",
      "inputDataset['Citizen'] = inputDataset['Citizen'].astype('category')\n",
      "\n",
      "#Class label\n",
      "inputDataset['Approved'] = inputDataset['Approved'].astype('category')\n",
      "\n",
      "\n",
      "print inputDataset.dtypes"
     ],
     "language": "python",
     "prompt_number": 5
    },
    {
     "cell_type": "heading",
     "metadata": {},
     "level": 3,
     "source": [
      "Making the output label as 0 or 1 instead of  '+' or '-'"
     ]
    },
    {
     "cell_type": "code",
     "execution_count": null,
     "metadata": {},
     "outputs": [
      {
       "output_type": "stream",
       "stream": "stdout",
       "text": [
        "   Male    Age  Debt  Married  BankCustomer  EducationalLevel  Ethnicity  \\\n0     1  30.83  0.00        1             0                12          7   \n1     0  58.67  4.46        1             0                10          3   \n\n   YearsEmployed  PriorDefault  Employed  CreditScore  DriversLicense  \\\n0           1.25             1         1            1               0   \n1           3.04             1         1            6               0   \n\n   Citizen ZipCode  Income  Approved  \n0        0   00202       0         0  \n1        0   00043     560         0  \n"
       ]
      }
     ],
     "input": [
      "cat_columns = inputDataset.select_dtypes(['category']).columns\n",
      "\n",
      "inputDataset[cat_columns] = inputDataset[cat_columns].apply(lambda x: x.cat.codes)\n",
      "\n",
      "print inputDataset.head(2)"
     ],
     "language": "python",
     "prompt_number": 6
    },
    {
     "cell_type": "heading",
     "metadata": {},
     "level": 3,
     "source": [
      "Exploring Dataset with GroupBy"
     ]
    },
    {
     "cell_type": "code",
     "execution_count": null,
     "metadata": {},
     "outputs": [
      {
       "output_type": "pyout",
       "html": [
        "<div>\n",
        "<table border=\"1\" class=\"dataframe\">\n",
        "  <thead>\n",
        "    <tr style=\"text-align: right;\">\n",
        "      <th></th>\n",
        "      <th>Male</th>\n",
        "      <th>Debt</th>\n",
        "      <th>Married</th>\n",
        "      <th>BankCustomer</th>\n",
        "      <th>EducationalLevel</th>\n",
        "      <th>Ethnicity</th>\n",
        "      <th>YearsEmployed</th>\n",
        "      <th>PriorDefault</th>\n",
        "      <th>Employed</th>\n",
        "      <th>CreditScore</th>\n",
        "      <th>DriversLicense</th>\n",
        "      <th>Citizen</th>\n",
        "      <th>Income</th>\n",
        "    </tr>\n",
        "    <tr>\n",
        "      <th>Approved</th>\n",
        "      <th></th>\n",
        "      <th></th>\n",
        "      <th></th>\n",
        "      <th></th>\n",
        "      <th></th>\n",
        "      <th></th>\n",
        "      <th></th>\n",
        "      <th></th>\n",
        "      <th></th>\n",
        "      <th></th>\n",
        "      <th></th>\n",
        "      <th></th>\n",
        "      <th></th>\n",
        "    </tr>\n",
        "  </thead>\n",
        "  <tbody>\n",
        "    <tr>\n",
        "      <th>0</th>\n",
        "      <td>0.679054</td>\n",
        "      <td>5.971943</td>\n",
        "      <td>1.14527</td>\n",
        "      <td>0.310811</td>\n",
        "      <td>6.354730</td>\n",
        "      <td>5.054054</td>\n",
        "      <td>3.475186</td>\n",
        "      <td>0.939189</td>\n",
        "      <td>0.685811</td>\n",
        "      <td>4.716216</td>\n",
        "      <td>0.489865</td>\n",
        "      <td>0.104730</td>\n",
        "      <td>2009.726351</td>\n",
        "    </tr>\n",
        "    <tr>\n",
        "      <th>1</th>\n",
        "      <td>0.697479</td>\n",
        "      <td>3.882325</td>\n",
        "      <td>1.29972</td>\n",
        "      <td>0.599440</td>\n",
        "      <td>5.291317</td>\n",
        "      <td>5.109244</td>\n",
        "      <td>1.223725</td>\n",
        "      <td>0.198880</td>\n",
        "      <td>0.235294</td>\n",
        "      <td>0.666667</td>\n",
        "      <td>0.439776</td>\n",
        "      <td>0.215686</td>\n",
        "      <td>187.974790</td>\n",
        "    </tr>\n",
        "  </tbody>\n",
        "</table>\n",
        "</div>"
       ],
       "metadata": {}
      }
     ],
     "input": [
      "inputDataset.groupby('Approved').mean()"
     ],
     "language": "python",
     "prompt_number": 7
    },
    {
     "cell_type": "heading",
     "metadata": {},
     "level": 3,
     "source": [
      "Creating Features and label sets for the model"
     ]
    },
    {
     "cell_type": "code",
     "execution_count": null,
     "metadata": {},
     "outputs": [
      {
       "output_type": "stream",
       "stream": "stdout",
       "text": [
        "int32\n"
       ]
      }
     ],
     "input": [
      "X = inputDataset.values[:, :15]\n",
      "\n",
      "y = inputDataset.values[:, 15:]\n",
      "\n",
      "# Flattening the labels into 1-D array for SkLearn to work\n",
      "y = np.ravel(y)\n",
      "\n",
      "#Converting the datatype to integer\n",
      "y = np.asarray(y, dtype=\"intc\")\n",
      "print y.dtype"
     ],
     "language": "python",
     "prompt_number": 8
    },
    {
     "cell_type": "heading",
     "metadata": {},
     "level": 3,
     "source": [
      "Creating the model based on the features and labels"
     ]
    },
    {
     "cell_type": "code",
     "execution_count": null,
     "metadata": {},
     "outputs": [
      {
       "output_type": "pyout",
       "prompt_number": 9,
       "text": [
        "0.87748851454823895"
       ],
       "metadata": {}
      }
     ],
     "input": [
      "logisticRegressionModel = LogisticRegression()\n",
      "\n",
      "logisticRegressionModel = logisticRegressionModel.fit(X, y)\n",
      "\n",
      "\n",
      "logisticRegressionModel.score(X, y)"
     ],
     "language": "python",
     "prompt_number": 9
    },
    {
     "cell_type": "heading",
     "metadata": {},
     "level": 3,
     "source": [
      "Split the data into training and test to predict on the random test dataset"
     ]
    },
    {
     "cell_type": "code",
     "execution_count": null,
     "metadata": {},
     "outputs": [
      {
       "output_type": "pyout",
       "prompt_number": 10,
       "text": [
        "LogisticRegression(C=1.0, class_weight=None, dual=False, fit_intercept=True,\n          intercept_scaling=1, max_iter=100, multi_class='ovr', n_jobs=1,\n          penalty='l2', random_state=None, solver='liblinear', tol=0.0001,\n          verbose=0, warm_start=False)"
       ],
       "metadata": {}
      }
     ],
     "input": [
      "X_train, X_test, y_train, y_test = train_test_split(X, y, test_size=0.28, random_state=0)\n",
      "\n",
      "trainModel = LogisticRegression()\n",
      "\n",
      "trainModel.fit(X= X_train, y=y_train)"
     ],
     "language": "python",
     "prompt_number": 10
    },
    {
     "cell_type": "heading",
     "metadata": {},
     "level": 3,
     "source": [
      "Predicting the output labels using the model"
     ]
    },
    {
     "cell_type": "code",
     "execution_count": null,
     "metadata": {},
     "outputs": [],
     "input": [
      "predictedLabels = trainModel.predict(X_test)"
     ],
     "language": "python",
     "prompt_number": 11
    },
    {
     "cell_type": "heading",
     "metadata": {},
     "level": 3,
     "source": [
      "Calculating the accuracy score & Confusion Matrix"
     ]
    },
    {
     "cell_type": "code",
     "execution_count": null,
     "metadata": {},
     "outputs": [
      {
       "output_type": "stream",
       "stream": "stdout",
       "text": [
        "0.896174863388\n\n\n[[76  5]\n [14 88]]\n"
       ]
      }
     ],
     "input": [
      "print metrics.accuracy_score(y_test, predictedLabels)\n",
      "\n",
      "print (\"\\n\")\n",
      "print metrics.confusion_matrix(y_test, predictedLabels)"
     ],
     "language": "python",
     "prompt_number": 14
    },
    {
     "cell_type": "heading",
     "metadata": {},
     "level": 4,
     "source": [
      "We can see the accuracy of the Logistic Regression model is 89%"
     ]
    },
    {
     "cell_type": "heading",
     "metadata": {},
     "level": 4,
     "source": [
      "Plot the ROC using Matplotlib"
     ]
    },
    {
     "cell_type": "code",
     "execution_count": null,
     "metadata": {},
     "outputs": [
      {
       "output_type": "display_data",
       "png": "iVBORw0KGgoAAAANSUhEUgAAAYYAAAEZCAYAAACTsIJzAAAABHNCSVQICAgIfAhkiAAAAAlwSFlz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\nIiIiIiIiIiIiIiIiIiIiIiIiUiz+P+/aaB6fcV+MAAAAAElFTkSuQmCC\n",
       "text": [
        "<matplotlib.figure.Figure at 0x110d5ed90>"
       ],
       "metadata": {}
      }
     ],
     "input": [
      "false_positive_rate, true_positive_rate, thresholds = roc_curve(y_test,predictedLabels)\n",
      "roc_auc = auc(false_positive_rate, true_positive_rate)\n",
      "\n",
      "\n",
      "\n",
      "plt.title('Receiver Operating Characteristic Logistic Regression')\n",
      "plt.plot(false_positive_rate, true_positive_rate, 'b',\n",
      "label='AUC = %0.2f'% roc_auc)\n",
      "plt.legend(loc='lower right')\n",
      "plt.plot([0,1],[0,1],'r--')\n",
      "plt.xlim([0,1])\n",
      "plt.ylim([0,1])\n",
      "plt.ylabel('True Positive Rate')\n",
      "plt.xlabel('False Positive Rate')\n",
      "plt.show()"
     ],
     "language": "python",
     "prompt_number": 15
    },
    {
     "cell_type": "heading",
     "metadata": {},
     "level": 2,
     "source": [
      "Now using the same training and test splits we are going to model using the decision trees algorithms and compare the accuracy, confusion matrix and ROC area"
     ]
    },
    {
     "cell_type": "code",
     "execution_count": null,
     "metadata": {},
     "outputs": [
      {
       "output_type": "pyout",
       "prompt_number": 16,
       "text": [
        "DecisionTreeClassifier(class_weight=None, criterion='gini', max_depth=None,\n            max_features=None, max_leaf_nodes=None,\n            min_impurity_split=1e-07, min_samples_leaf=1,\n            min_samples_split=2, min_weight_fraction_leaf=0.0,\n            presort=False, random_state=None, splitter='best')"
       ],
       "metadata": {}
      }
     ],
     "input": [
      "decisionTreeModel = tree.DecisionTreeClassifier()\n",
      "\n",
      "decisionTreeModel.fit(X=X_train, y=y_train)"
     ],
     "language": "python",
     "prompt_number": 16
    },
    {
     "cell_type": "heading",
     "metadata": {},
     "level": 3,
     "source": [
      "Predicting the output labels using the Decision Trees Classifier"
     ]
    },
    {
     "cell_type": "code",
     "execution_count": null,
     "metadata": {},
     "outputs": [],
     "input": [
      "predictedLabelsDT = decisionTreeModel.predict(X_test)"
     ],
     "language": "python",
     "prompt_number": 17
    },
    {
     "cell_type": "heading",
     "metadata": {},
     "level": 3,
     "source": [
      "Accuracy and Confusion matrix using the Decision Trees Classifier"
     ]
    },
    {
     "cell_type": "code",
     "execution_count": null,
     "metadata": {},
     "outputs": [
      {
       "output_type": "stream",
       "stream": "stdout",
       "text": [
        "0.846994535519\n\n\n[[65 16]\n [12 90]]\n"
       ]
      }
     ],
     "input": [
      "print metrics.accuracy_score(y_test, predictedLabelsDT)\n",
      "\n",
      "print (\"\\n\")\n",
      "print metrics.confusion_matrix(y_test, predictedLabelsDT)"
     ],
     "language": "python",
     "prompt_number": 18
    },
    {
     "cell_type": "heading",
     "metadata": {},
     "level": 3,
     "source": [
      "Accuracy using the Decision Tree algorithm is 84% on the test dataset"
     ]
    },
    {
     "cell_type": "heading",
     "metadata": {},
     "level": 4,
     "source": [
      "Plotting the ROC"
     ]
    },
    {
     "cell_type": "code",
     "execution_count": null,
     "metadata": {},
     "outputs": [
      {
       "output_type": "display_data",
       "png": "iVBORw0KGgoAAAANSUhEUgAAAYYAAAEZCAYAAACTsIJzAAAABHNCSVQICAgIfAhkiAAAAAlwSFlz\nAAALEgAACxIB0t1+/AAAIABJREFUeJzt3XmYFOW59/EvDCCyL8oqiyKoENwQREUzCBFwxQgqKuob\nfbOoSYxocoyJzpsct3OMe9w3MAoZNkUxcAxxTnAXGARBEBBkBwUEBGSAqfePu5ru6enuqZnp6qru\n/n2ua67ppbrq7uruuutZ6nlAREREREREREREREREREREREREREREcshnwFlBBxEitwPPBrTtl4A/\nB7TtdLsSmFnD14bxO7kT6FrFMmcCS/wPRfLNKmA39iXcCLwMNAsyoDQ7BLgX+Ap7n18AtwYYTyGw\nJoPbqwP8ClgIfOduuxj4gfv8i8CfMhhPMkXYdy8TXiI9ybArUI79diK/nzeAwWlYd5DOJPqevqPi\ne9wBHBFcaJlTN+gAAuYA5wNNgROA3sAfAo2oZuoleXwiMBAYBjQBRgM/BR7xIYY67l+YPIIlhl8C\nLYEewGvAuT5sq8CHdWbDtptjv5/jgbeBqcA1AcZTW7Ox99MU6OU+FnmPzYC1McsGud/FRyuBs2Pu\n/xcwPeZ+f+B9YBswH/hhzHOtsDPOdcBW7AcRcb67/DbgPSzhRKxyt9kBO4tvGfPcScDXRL9wPwEW\nu+ufAXSOWbYcuAFYBqxI8N4GAXuAjnGP9wP2A0e590uwUsVHwHbswBkbU6p9UAL8p/sedwPdgP/j\nxrzDjeun7rKN3XgOED37ak/Fs+Wu7vu6GivlfA38PmZ7hwJj3f2xGPgtyUsg3d33eUqS58E+v8eB\nN914PiS6X8ASy2psv8wBBsQ8VwRMcmPfjn1WfYEPsH21HngMqB/zml7YwXMLdoZ9OzAE2AuUYful\n1F22OfC8u5612Fl+5ETuWmyfPwh84z53LXZQA0vQDwGb3NgWuNv+qbudve62XneXX4V9X8C+e78H\nlrv7ZA6Jz5K7Yp9V/MnlGPe9RXQAJgObgS+xJB1RN8G2It/XcqKfxbnAIneZte42oHIJ9DjsO7kN\nqx67IOa5l4C/kvyzTiT+PRZR+TNP9TlB6t9wos9IQmAl0R/EEdiHc6d7vyP2oxvq3h/s3m/t3p8O\njMe+GPWwIijYwX0TdpCogx3kVhI9QMQmo1nA9THx/DfwhHv7Iuygfwz2RbsDOxhElGN1yi2wKqN4\n9wHvJHnfq4D/694uwb7QPYFGRL/4UPU+KHHXdZwbYz3sR3yk+/xZwC5sn4AllfgD+V1UTgxPu+/p\neOB7bB/EvqfmbmwLsAN3Ij/H9nUqL7nv5xTsgPg37DONuBJLknWBW4ANQAP3uSLsIHuhe78hcDKW\neOsCXbADwq/d55u6r/+Nu44m7rKRfTAuLrapwJNYMjwcS9yRJHstsA+40d1WQyomhiHYQTZSLXoM\n0M69naj6LPY7eRu2X7u793tjJ0HxupI4MRzlPh753s7FSuH1sO/FCuCcJNs6PmZbsYlhA3CGe7s5\n0e9TIdHvU30swfyHu62BWALo4T7/Eqk/60Ti32MRlT/zVJ9Tqt9wqs9IAraK6NlrOfYhR74Ev6Py\nj3UGdqBvj535Nk+wziep/MNbQjRxxP4Ir8OSA1gSWU30rPQf2NlGRF3sINvJvV+O/TCSeY7kX/wP\nsLNVsAPtPTHPHYedUdYl9T6IvLYoRQxg+/RX7u1CKieGIionhg4xz38EXOreXgH8KOa56xKsL+IO\n7H2m8iLwTMz9YcDnKZbfSrT0V4QlxlRuBqa4t0dhB8lEiqjYxtAWS4gNYx4bBfzLvX0tVqKKdS3R\nxHA2sBQ4lcoH7hep3MYQ+51cSsUz7WS6kjgxNHQfP83dfnyctwMveNhWbGL4CjvYxrf/FRL9/M/E\nEkisV7GkC5YYqvNZQ+LEUBLzfFWfU7LfcGcscSX7jAIXuoAyzMGyejPsS3Y20aqHLsBIrFga+TsD\ny+qdsIPE9gTr7IIVdWNfdwQVD3YRU7AfUDvs7LoceDdmPY/ErGOL+3hs1VCqhtyvsQSWSAfs7CnR\nelZjZ1+HkXofJIthGFZM3+Iufy7REoZXsVURu7Gz60jcsduLre+Nt4Xk7z/Wppjbe2K2BdZQvxj4\nFnsvzbH9kmz7PbCqig3Yd+Nuou+9E1aV4kUX7DPYQHS/P4WdkUak+uz/hVWR/RV7f09jJRYvjiBx\n1aRXke/nVux9dKDi9+d2oE01t3UJ9j1ahR2Y+ydYJv67AZZQIr87h9SftVexn3lVn1Oy33AH7KSq\npp+R7/I9McT6N1YnfL97fzV2Ftcy5q8p1g6xBivyJioxrMYOCLGvawL8PcGy24D/AS4DrqDiGf5q\n7Cwpdj2NsYNuhJPi/fwTOxuJrx+OPPavmMc6x93ehyWWVPsgUQyHYPXJ/4X9+FsCbxFtlE4Ub6r3\nEG8D0RITcbfjzcLeZ59qrD/WmVhVx0isuq4ldrCPbWCPj/1JLJEcjX037iD6G1tN8jrt8rj7a7BS\nW2ui+705Fduqqtpvj2EnOT2xhHWbx9etceOvqYuxA91Sd10rqfj9aYa1wVVnW3OA4dgB9zWsZ1m8\n9dj3Ifbz6YK1AaaLQ8X9V9XnVNVvONlnFDglhooexup9T8XqIC/A6kMLsOJiIXZGtAErJj6BHTTq\nE+0H/ixWv90P+5I2Bs4j+dnJq1gvjkvc2xFPYQ1zPd37zbGDlFez3L/J7joKsDOtl924I2dqdYCr\nsCqkRlg12ETsB5BqHxDz+ogG7t832MFuGNH6ZLADRmsqVglUpydTMXbG2cKN4SaSH+iWYe9zPNa2\n0cCN/3KsiqyqbTfFGq+/cV97J1V3ZW6CVU3uBo4FfhHz3HSsBPNrLIE2JdrGsAmrtojEswE7YXjQ\nXa4u1rDv9VqDU7DvcH03lu+xqs/ItlI1uj6HVTUd7cYTW++fSCTmttjncSfRasqPsP3xW6wOvgDr\nKhwplXvZVn2srac50Y4LB6jsI/e9/tZ9TSGWgCbExVkb8euo6nNK9RtO9RkFTomhom+wXi+/w4qM\nF2Ef7GYs+48hus9GY2fWS7AfW6QefS7WsPs4VpxehtXJJzuATcN+GBuw/vYRr2GllwnYmepCrMEq\nwsuZ9iVYkXUG9oN6GfsxxvYMcdzHXyLauBp5L8n2QbKz5p3ua4ux9z6KaM8XsH01HqtS2YodKOPP\nwlK9rz+5Ma3EfpATscbAZH5FtLi+DWucvAjb55FtxW8vcn+G+/cFVoWxh4oN3YleeytW8tuB1WdP\niFlmJ9Y+cgG2n78g2kY00f2/BTs7BvvONCDao2Ui0Sq8ZHFHHmvmbn+rG/s3WMcGsB40PbH9MYXK\nHsQ+v//BvnfPUrEOPd63WH//BVgnhRHYdwns5OB84ETsM//ajSuSYFNtK/b9XYV95tuxM/Ar4943\n2PfgAuxk5Gvscx+N7efIcsk+61Tiv5vxr0n1OaX6Daf6jHLeC9hBc2GKZR7FDp6fEu1tIJnzDhUb\nyLLJL0je80pEasjvEsOLRLs6JnIudrbcHTsTeNLneCSxsF2Ylkw7rPG7Lta97xYqXj8iImngd2KY\njRVZk7kQq7oBqyNsgdVVSmZVpwE4SA2wetsdWPvJa0Sv+xCRNEk2lEKmdKRy98MjqNitTPw1MOgA\nqmE1FXvmiIgPwtD4HF+NkS1nryIiOSnoEsM6KvZFP4IE/Y67devmrFhRm2tuRETy0gpqcF1K0Ilh\nGtb3eQLWx/5bElQjrVixAsdRQQKgqKiIoqKioMMIBe2LKO2LqDDui+++gw0bqv7buRPatoX27VP/\ntW0L9eKP3qWlcO210KkTPPMMdOhAnTp1utUkXr8TQ+TiosOwtoS7iA4m9zR2Vey5WP/yXdjInCIi\noec4sG2btwP+gQOJD/DHHVfxfuvWULcmFfwPPQT33gsPPACjR0Od2nU09DsxjPKwzE0+xyAi4tmB\nA/D111Uf7DduhIYNKx/sjzgC+vat+FizZrU+VqfWty/Mnw8dEg3JVn1BVyVJNRUWFgYdQmhoX0Rp\nX0Ql2xdlZXYwr+qA//XX0LJl5QP+scfCwIHR++3aQaNGmX1vSQ0YUPUy1ZAtFzY5amMQkUR277YD\n+vr1qQ/427dDmzaJq3Q6dKhYf1+/ftXbzQZ1rJhS7eO8EoOIhI7j2IHcS/393r1VN9a2bw+HHQYF\n2TwZZ1kZ3H03tGgBv/mNp5fUNDGoKklEMqa8HL75xtsBv379xAf4k06qeL9FC5/r78MgvseRz7Jl\nd6rEIBJi+/bBpk1VH+w3b7aGWC9n+I0bB/2uQiBSSnjyyRr1OFJVkoik3Z493s7ut22Dww/31v/+\nkEQzlEtiN9wAq1cfvC6hupQYRMQTx7ELqapqrN2wwRJDu3ZVH/DbtMny+vuw2rkTmjSpcV2ZEoNI\nnnMc2LLF2xl+nTreqnNatcqD+vscpsQgkqP277e6+aoO9ps2Wb28lwN+09BMOy+AtSXs3GmXPqeR\nEoNIltm719vZ/ZYtdryo6mDfrp1diStZJtLjaMQI+OMf07pqJQaRkNi509sB/7vvvNffVxowTbJf\nLXsceaHrGER8FBkwzUuDbXl54gN8z55pGjBNsl/sdQlpHOMoXVRikLxW2wHTEv35PmCaZL8HH7RL\nsX0oJcRSVZJIjNoOmJbo79BDg35XItWjxCB5Ydcub/X3O3YkHzAt/oKrXBkwTSSeEoNkLceBb7/1\ndsDft8/7gGmqv5fAlZbal3vgwEA2r8ZnCZ3IgGlVNdhu3Jh8wLSTT87DAdMk+8X2OHriiaCjqTYl\nBqm22g6Y1r07nHWWBkyTHBXyHkdeZMu5l6qSMiDdA6a1awcNGgT9rkQy6PHH4U9/8u26hOpSG4Mk\n5DjWEOvlgP/9994uuDr8cA2YJpLQ3Ln2IwlJKUGJIc+Ul3sfMK2gwFuDbcuWgZ/giEgaKTHkuHnz\nrIQaacjdtMlG49WAaSKSjBJDjrvsMujSBS6+WAOmiQQq0uOobl24666go0lJiSGH7doFHTvCihVp\nH5VXRKojfu7lkLQlJFPTxKBLgLLAW29B//5KCiKBKSuz0sGQITBmDLzxRuiTQm3oOoYsUFwMI0cG\nHYVIHrvjDvj886y9LqG6VJUUct99Z9VIX36pEoNIYPbssUa9LOu2pyExctT06XD66UoKIoHKs6F1\n1cYQcsXFcOmlQUchkici47XnOSWGENu5E/75Txg+POhIRPJAaSn07QuPPhp0JIFTYgixN9+EAQPs\nimQR8Ul8j6O77w46osCpjSHEVI0k4rMcGAnVD9nSxJ53vZJ27LDv6ldf2RwEIuKD556zIYBDMBKq\nH9QrKce88YbNWaCkIOKj668POoJQUhtDSKkaSUSCki1lp7yqStq+HTp3htWroXnzoKMRyQGlpbBu\nHZx/ftCRZFRYx0oaCiwBlgG/S/D8YcAMYD7wGXCtz/FkhWnToLBQSUGk1mJ7HO3aFXQ0WcPPNoYC\n4HFgMLAO+ASYBnwes8xNQClwO5YklgJ/A/b7GFfoFRfD5ZcHHYVIllOPoxrzs8TQD1gOrAL2AROA\ni+KW2QA0c283A7aQ50nh22/h3/+GCy4IOhKRLPbMM3kzEqof/CwxdATWxNxfC5wat8yzwL+A9UBT\nIO+bW19/Hc4+G5o1q3pZEUliwACVEmrBz8TgpbX491j7QiHQDXgbOAHYGb9gUVHRwduFhYUUFham\nIcTwKS6Gq64KOgqRLNezZ9ARBKKkpISSkpJar8fPXkn9gSKsARqsHaEcuD9mmbeAu4H33PuzsEbq\nOXHryoteSdu2QdeusHat5mkW8cxxcvLitHQIY6+kOUB3oCvQALgMa3yOtQRrnAZoCxwDfOljTKH2\n2msweLCSgognkR5HY8YEHUnO8bMqaT/W62gm1kPpeaxH0s/c558G7gFeBD7FktRvga0+xhRqxcXW\niUJEqhA/97KkVbaUv3K+KmnLFjjqKLsGp0mToKMRCamyMhv99Mkn4YEHcnaMo3TRWElZ7rXX4Jxz\nlBREUrrnHpg7Vz2OfJYtqTbnSwxDhth4XiNHBh2JSIiVlUH9+ioleFTTEkO27N2cTgxbtkC3blaN\n1Lhx0NGISK4IY68k8WjqVCsxKCmIuMrKbBRJCYQSQwhoiG2RGJG5lx9+OOhI8paqkgL29dfQvTus\nXw+NGgUdjUiA1OMo7dQrKUtNnQrDhikpSJ7TSKihoqqkgKkaSQRYtkwjoYZItpTTcrIqafNm6NED\nNmyAQw8NOhoRyTXqlZSFpkyBc89VUhCRcFFiCJCqkSTvlJbChAlBRyFVUGIIyMaN9hsZOrTqZUWy\nXuzcy+XlQUcjVVCvpIBMmQLnnQcNGwYdiYjP1OMo66jEEBBVI0leeOklzb2chdQrKQAbNtjMgxs2\nqMQgOe7LL+1LroQQCF3glkUmT4YLLlBSkDxw1FFBRyA1oKqkAKgaSXJSDpXq852qkjJs3Tro3duq\nkQ45JOhoRNIgMsbRunXw3HNBRyMxVJWUJSZPhgsvVFKQHKG5l3NSdaqSNMxbGqgaSXJC7HUJ6nGU\nc7wkhtOBxcBS9/6JwBO+RZTD1q6Fzz+HwYODjkSklh57LDr38tVXa3jsHOPl0/wYGAG8DpzkPrYI\n6OVXUAnkRBvDww/DggXwwgtBRyJSS/v3Q0GBEkLI+T2IXvwce/uruyFRNZLkkHr1lBRymJfEsBo4\nw73dALgV+Ny3iHLU6tXwxRcwaFDQkYhUQ1mZzZUgecVLYvgFcCPQEViHVSfd6GdQuWjSJBg+HOrX\nDzoSEY8icy8/9FDQkUiGeUkMPYArgDbA4cCVwLF+BpWLVI0kWaOsDO6803oc3Xor/PWvQUckGeal\nkrCUaKNzqsf8lNWNz6tW2YnX+vUqMUjIlZbCNddAly7w9NPqgprl/LjA7TSsq+rhwC0xK2+KhtKo\nlkmT4OKLlRQkC2zcCLfdBlddpcblPJYqMTTAkkCB+z9iB9Z9VTwqLoZ77gk6ChEPhg0LOgIJAS+n\nBF2BVf6GUaWsrUpauRJOPdWqkeppABIRySA/x0raDTwA9AQi09Y7wNnV3Vg+mjQJfvxjJQUJmXnz\n7O/664OORELIS1vBK8AS4CigCCs9zPEvpNyi3kgSKpEeR0OHwqGHVr285CUvRYx5wMnAAuB497E5\nwCl+BZVAVlYlffklnHaajUasEoMEbt48GwlVPY7yhp9DYpS5/zcC52NJomV1N5SPJk6ESy5RUpAQ\neOUVKyXcdhtMm6akICl5ySQXALOBTsBjQDOsSmmaf2FVkpUlhj594C9/gcLCoCORvLd+vf1XQsgr\nNS0x1LSjcj9s1NWqDAUexrq8Pgfcn2CZQuAhoD7wjXs/XtYlhuXLYcAAq0YqKAg6GhHJR370SqoL\nXAx0Az4D3sLaFe7Bhsc4sYp1FwCPA4OxMZY+wUoZsQPwtQD+CgwB1gKHVfcNhFWkGklJQTKuvBzq\n6hpUqblU355ngBuw9oQ/AJOBsdgkPV6Gw+gHLMd6Me0DJgAXxS1zhbvete79bzzGHXrqjSQZF+lx\ndMUVQUciWS5ViaE/1gupHGiINT53A7Z4XHdHYE3M/bXAqXHLdMeqkN7Brq5+BHjZ4/pD64svbGSB\nAQOCjkTyRqTHUefOmntZai1VYtiHJQWA74GVeE8KYBfBVaU+1stpEDan9AfAh0BWDwA/cSKMGKFq\nJMmAsjK4+2548kl44AEYPVpjHEmtpUoMxwILY+53i7nvEL2mIZl1WE+miE5Eq4wi1mDVR3vcv38D\nJ5AgMRQVFR28XVhYSGGIu/oUF8PjjwcdheSFF16Izr2sHkd5r6SkhJKSklqvJ9WpRdcqXruqiufr\nAUux0sB6rBfTKCo2Ph+LNVAPAQ4BPgIuAxbHrStreiUtWWKztK1Zo/Y/yYDycishqJQgCfjRK2lV\nTYNx7QduAmZiPZSex5LCz9znn8aG2piBXVVdDjxL5aSQVSLVSEoKkhH6ookPsuU0I2tKDL17w1NP\nwRlnVL2siGeRuZd79Qo6Eskifg6JIR4tXgzbttn4SCJpM38+9OsHDz4YdCSSJ7wmhkbAMX4Gkgsm\nToSRI1W6lzQpK4O77oJzzoFbboHnngs6IskTXg5hF2JzPM90759EZsdJyhq6qE3SZsECKyVEehxd\nfbUamCVjvCSGIuzCtG3u/VJsbgaJsWgR7Nxps7WJ1Nr27VZKeOMNdUOVjPMyIPQ+4Nu4x8oTLZjP\niotVjSRpdOaZ9icSAC+HsUXAlVgS6Y4Nvf2+n0FlG8dRNZKI5A4vieGXQC9gLzAe2AHc7GdQ2eaz\nz2D3bqsSFqmW+fPh4YeDjkKkAi+J4Rjg99iQ26cAd2BjJ4krUlpQ26B4FtvjqHXroKMRqcBLG8OD\nQDtgIvB3bG4GcUWqkf72t6Ajkawxf76NhHrEERrjSELJS4mhEBiIDXb3NDaQ3h99jCmrLFhgJ3+n\nnBJ0JJIVJk+OXpegHkcSUtWt/OgN/A4b6K5++sNJKrRDYtxxB+zfD/cnmrRUJN6WLbB3rxKCZISf\ncz73BC4FRmDzMfwdmARsru7GaiGUicFxoEcPmDAB+vQJOhoRkYr8GF014gVsWs4h2BwL4po/30Y9\nPvnkoCORUDpwQLM1SVbykhj6+x5FllJvJEkoMqvanDkwfXrQ0YhUW6rEMBEYScVZ3CK8zOCW0xzH\nBs2bODHoSCRUYnscPfts0NGI1EiqxPBr9//5VK6jCl+Ff4aVllpJ4cQTg45EQkFzL0sOSZUY1rv/\nb8B6IsW6P8FjeUXVSFLBxImae1lyhpfDWik21HashVjX1UwJVa8kx4Fu3WDqVDjhhKCjkVCIfD91\npiAh4kevpF9gpYVuVGxnaAq8V90N5ZK5c6F+fTg+r1tZpAIlBMkhqRLDq8A/gPuwaqPIN38ndj1D\n3ooMsa1jQR4qK7NRE9VHWXJYqkNbM2wk1dYkbmze6ktEiYWmKslx4MgjYdo0lRjyTqTH0Q9+oMGx\nJCv4UZU0HjgPmEvixHBkdTeWCz75BBo2hN6ZbGGRYCXqcSSSw1IlhvPc/10zEEfWUG+kPLNwoSUC\njYQqecTL4e0M4FPgO2A01kPpEeArH+OKF4qqJMeBLl3grbesNkHywPz5NoSurkuQLOTnIHoLgROw\n7qkvAc9jV0T/sLobq4VQJIYPP4Sf/AQWLdIxQkTCr6aJwct8DPuBcmA48FfgcazLat5RNZKI5AMv\niWEnNrXnVcCbQAGZnYshFMrL7eLWkSODjkR8MX8+/PnPQUchEgpeEsNlwF7gJ8BGoCPw334GFUYf\nfgjNm0OvXkFHImkVO/dyly5BRyMSCl6G3d4AvAL0xQbU+xgY52dQYRSpRpIcormXRRLyUmK4FPgI\na3C+FEsMeVWhomqkHDR9uuZeFknCSzPqAmAw0ak8Dwdmkdn5GALtlfTuu3DDDdZrUXLEzp32p4Qg\nOczPqT3rAF/H3N9Skw1lM1Uj5aCmTe1PRCrxkhhmADOxQfXqYI3R//AzqDA5cAAmTYJ33gk6Eqmx\nfftsOFwR8cRLG8NtwFNY1VFv4Gngt34GFSbvvQdt2sAxxwQdiVRbpMfR4MHR+RJEpEqpSgw9sG6p\nR2PtDLcBazMRVJioGilLxfY4Gj9eVyWKVEOqX8u7wFhgNnABcBrw40wElUAgjc8HDkDHjjB7NnTv\nnvHNS01o7mWRg/wYEqMJ8CywBCs51GSY7aHu65eReo7ovtjQG0ElnoRmz7ZOK0oKWWTmzOjcy1df\nraQgUgOpqpIaApFpquoAh7r362DzM8yrYt0F2LhKg4F1wCfANODzBMvdjzVyh+pXrGqkLHT++fan\nhCBSY6kSw0bgLynuD6xi3f2A5cAq9/4E4CIqJ4ZfApOwUkNo7N8PkyfD++8HHYlUixKCSK2lSgyF\ntVx3R2BNzP21wKkJlrkIOBtLDKHpOvLvf0OnTtCtW9CRSEJlZTBnDpx+etCRiOQcL91Va8rLQf5h\n4D/cZesQoqokVSOF2Pz50K8fPPSQuqGK+MDLBW41tQ7oFHO/E5W7u/bBqpgADgOGAfuwtogKioqK\nDt4uLCyksLAwfZHG2b8fpkyBjz7ybRNSE+pxJJJSSUkJJSUltV6Pn7+qesBSYBCwHht8bxSV2xgi\nXgTeAKYkeC6j3VVnzYLbb4ePP87YJqUqixfDFVfYdQnPPKMxjkQ88HMGt7rYXM93uvc7Yw3LVdkP\n3IQNp7EY+DuWFH7m/oWWqpFCqEEDjYQqkiFeMslT2NSeZwPHAq2A/wFO8TGueBkrMezfD+3bW7um\n5m0RkWzm5+iqpwInAaXu/a3k8NSe77xjPZGUFEQkX3mpSirDLkKLOBwrQeQkVSMFbP58uO029TYS\nCZCXxPAYMBVoA9wDvAfc62dQQdm3D6ZOhREjgo4kD8XOvdy7d9DRiOQ1L1VJfwPmYr2LIPHVyznh\nX/+ycZE6dw46kjyjuZdFQsVLYugM7MK6koJdjNYZWO1XUEFRNVIAZs2CUaN0XYJIiHj5FX5G9Crm\nhtgoq0uBXn4FlYDvvZLKyqw30vz5NhSGZMjevbBli0oJIj7ws1fSD+LunwzcWN0Nhd2sWXDssUoK\nGXfIIUoKIiFTk7GS5lF5MLysp2qkDPj++6AjEBEPvBQxxsTcrouVGFoBQ3yJKDFfq5LKyqBdO1i4\n0GZskzSLjHE0fTp88onaEUQyxM8hMZrE/DUA3sR6JuWMt9+GXr2UFHwRGQl17lyYNk1JQSQLVNXG\nUAA0o2KpIeeoGskHGglVJGulSgz1sIHwziA6nWfO2bvXTmTvzclL9gL0wQcwb56uSxDJQqlO4eZh\n7QlPAR2AicBu9zmHxMNj+8W3NoY33rAT2v/9X19WLyISGD+6q0ZW1hDYgo2uGiuTicE3qkYSEako\nVSZZCzyYYpm/pD+cpHwpMXz/vV3U9vnn1itJaqCsDGbPhkGDql5WRDLKjxJDAdC0pgFlg5kz4cQT\nlRRqLDLG0ZFHwsCBUNfPKcRFJFNSJYaNwP/LVCBBUDVSDanHkUhO8zIkRk7as8eut3rwwaAjyTJL\nlsDll2voVjKbAAASe0lEQVQkVJEclioxDM5YFAGYMQP69IG2bYOOJMs0awZjxsBVV6mUIJKjsuWX\nnfbG51GjoLAQfvaztK5WRCQ0atr4nJeJYfduqwFZtgwOPzxtqxURCRU/x0rKOf/4B/Ttq6SQ0vz5\n8POfQ3nOTu8tIknkZWJQb6QUYudePv10tSOI5KFs+dWnrSpp1y6rRlqxAg47LC2rzB2xcy8/84x6\nHIlkOVUlefTWW9C/v5JCJe+/b6WEW26xAaSUFETyVt5dx6BqpCROPRUWLNBl4CKSX1VJu3bZZDwr\nVkDr1mmISkQkxFSV5MH06XDaaUoK7NoVdAQiEmJ5lRjyvhop0uOoXz84cCDoaEQkpPImMXz3nc3t\nfFFOzVZdDbFzL7/9NhQUBB2RiIRU3iSGN9+EM86AVq2CjiTDYq9LUI8jEfEgb3ol5W010sKFVlrQ\nSKgi4lFe9EraudOu2Vq1Clq2TF9QIiJhpl5JKbzxBpx5ppKCiIgXeZEY8qIaqazMGlJERGop56uS\nduyATp3gq6+gRYs0RxUWkTGOOneGKVOgXt40HYlICmGuShoKLAGWAb9L8PyVwKfAAuA94Ph0bnza\nNPjhD3M0KcT3OHr9dSUFEak1v48iBcDj2DSh64BPgGnA5zHLfAmcBWzHksgzQP90BZCz1UjLl8OI\nEZp7WUTSzu+qpNOAu7ADPsB/uP/vS7J8S2AhcETc4zWqSvr2W+jSBdassamKc8q2bTbj0KhRmjNB\nRBIKa1VSR2BNzP217mPJXAe8la6NT5sGAwfmYFIA62J1xRVKCiKSdn5XJVXnNH8g8BPgjERPFhUV\nHbxdWFhIYWFhlSssLrZjp4hIPigpKaGkpKTW6/H7dLM/UES0Kul2oBy4P26544Ep7nLLE6yn2lVJ\n27ZB166wdi00bVqtl4bL/PnwwAPw4otQv37Q0YhIFglrVdIcoDvQFWgAXIY1PsfqjCWFq0icFGrk\n9ddh0KAsTgqxPY7OOUe9jUQkY/w+2uwHbgJmYj2Unsd6JP3Mff5p4E6s0flJ97F9QL/abri4GK6+\nurZrCUjs3MvqcSQiGZYtLZfVqkrauhWOPBLWrYMmTXyMyg+lpTBkiFUfjR6txmURqbGaViXlZP3E\na6/Bj36UhUkB4MQTYdEiOPzwoCMRkTyVk2MlZfVFbXXqKCmISKCypZ7Cc1XSli1w1FGwfj00buxz\nVLW1fTs0bx50FCKSo8LaKynjpk61KvpQJ4VIj6OTT7bbIiIhknOJIfTVSKWl0Levzb08ezY0aBB0\nRCIiFeRUVdLXX8PRR8OGDdCoUQaiqo6yMrj7bnjySfjLX+Cqq9TjSER8pV5JWDXSsGEhTAoAK1bA\nZ5/pugQRCb1sOWX1VGIYPBhuuAF+/OMMRCQiEnI1LTHkTGLYvBl69LBqpEMPzVBUIiIhlve9kqZO\nhXPPDUFSKCuDiRMDDkJEpOZyJjGEojdSpMfRuHGwd2/AwYiI1ExOVCVt2gTHHmvVSA0bZjCqCPU4\nkizXqlUrtm3bFnQYUkMtW7Zk69atlR7P615JU6ZYNVIgSWHlShg+HDp3Vo8jyVrbtm2jJtPnSjjU\nSfOJaE5UJQVajdSmDfz+9zaPqJKCiOSAbKnvSFqVtHEjHHdcgNVIIjmgTp06KjFksWSfX972Spo8\nGc4/X0lBRCRdsj4xZKwaqbTUrpz7/vsMbExEJDhZnRjWr4eFC21KZN9ERkIdMgQuvhgOOcTHjYmI\nBC+rE8PkyXDBBT4eqyPXJcybZz2ONNWmSGAKCwtp1aoVZXFD1RcWFvL8889XeKykpIROnTodvO84\nDo8++ii9e/emSZMmdOrUiUsvvZTPPvssrTFu3bqViy++mCZNmtC1a1fGjx+fcvk///nPdOrUiRYt\nWjBw4EAWL15caZlly5bRsGFDRo8endZYU8nqxOBrNdLSpVZKuPVW9TgSCdiqVav4+OOPadOmDdOm\nTavwXJ06darsrvnrX/+aRx99lMcee4xt27bxxRdfMHz4cKZPn57WOG+88UYaNmzI5s2beeWVV/jF\nL36R8GAPMG3aNJ566ilmz57N1q1bOe200xIe/G+88Ub69euX9i6pqWTtdQzr1tnUyD/6kU8bOOYY\nSw4tW/q0ARHxaty4cQwePJhTTz2VsWPHMmLECM+vXbZsGU888QQffvghp5xyCgD169fniiuuSGuM\nu3btYsqUKSxatIhGjRpxxhlncNFFF/Hyyy9z7733Vlp+0aJFDBgwgK5duwJw5ZVX8tBDD1VYZsKE\nCbRs2ZKePXuyfPnytMabStaWGCZNgosu8nmeGyUFkVAYN24cl112GZdeeikzZ85k8+bNnl87a9Ys\nOnXqdDApeHHDDTfQsmXLhH8nnnhiwtd88cUX1KtXj6OPPvrgYyeccAKLFi1KuPygQYP44IMPWLZs\nGfv27WPs2LEMGzbs4PM7duzgrrvu4qGHHsp4V+KsLTEUF8Mf/pCmlW3ZAq1bp2llIrknXbUYNTm+\nvfvuu6xbt44LL7yQpk2b0rNnT1599VVuvvlmT6/fsmUL7dq1q9Y2n3jiCZ544olqvea7776jWbNm\nFR5r2rQpO3fuTLh8v379uOaaazjmmGMoKCigc+fOzJo16+Dzf/zjH7n++uvp0KFDRquRIEtLDGvW\nwJIlMGhQLVcU6XF00kmwe3daYhPJRY6Tnr+aGDt2LOeccw5NmzYFYOTIkYwdO/bg8/Xq1WPfvn0V\nXrNv3z7q168PQOvWrdmwYUPNNl4NTZo0YceOHRUe2759+8G44z3++OPMmjWLtWvXsnfvXu68807O\nPvts9uzZw/z585k1a9bB5KcSgweTJtnwRLWqRiothWuvtTGOPvwwpNO+ieS3PXv2UFxcTHl5Oe3b\ntwdg7969fPvttyxYsIDjjz+ezp07s3LlygqvW7ly5cG6+0GDBnHTTTcxd+5c+vTp42m7P//5z3nl\nlVcSPte1a1cWLlxY6fEePXqwf/9+li9ffrA66dNPP+UHP/hBwvXMmDGDUaNG0cHt2HLNNddw8803\ns3jxYt59911WrVpF586dASuNHDhwgM8//5w5c+Z4eg/5wInVv7/jzJjh1MzevY5z552Oc/jhjjNu\nnOOUl9dwRSK5I/43Fhavvvqq06pVK2fNmjXOpk2bnE2bNjkbN250zjrrLGfMmDGO4zjOzJkznTZt\n2jgff/yxU15e7ixdutQ57rjjnKeffvrgen75y1863bt3d0pKSpy9e/c6e/bsccaPH+/cd999aY33\n8ssvd0aNGuXs2rXLmT17ttO8eXNn8eLFCZe9/fbbnQEDBjibNm1yDhw44IwbN85p0qSJs337dmf3\n7t0V3u+tt97qjBgxwvnmm28SrivZ5wfk9DgnB9/oqlWO07q145SV1fCTW7XKcS691HHWravhCkRy\nDyFNDEOHDnVuvfXWSo8XFxc77du3dw4cOOA4juO88MILTq9evZxmzZo5Rx99tHP//fc75XEnfY88\n8ojTq1cvp1GjRk7Hjh2dyy+/POlBu6a2bt3qDB8+3GncuLHTpUsXZ/z48Qef++qrr5wmTZo4a9as\ncRzHcXbt2uVcd911Ttu2bZ1mzZo5ffr0cWbOnJlwvUVFRc7o0aOTbjfZ50cNE0O2XK3lvkeb7mDJ\nEnj22YAjEskhGkQvu+X9IHqhmKlNRCSHZVViWLUKvvwSBg70sHBZGYwdW/OuECIieSqrEsPEiTbA\nab2q+lJFxjiaNEndUEVEqimrEkOV1UixI6FGxjhq3Dhj8YmI5IKsuY7hyy/hq6/ghz9MssDatXDe\neZp7WUSklrImMUycCJdckqIaqU0bKy1cfLGGxhYRqYVsOYI6J5/s8MADHhueRaRaWrVqxbZt24IO\nQ2qoZcuWbN26tdLjNe2u6ndiGAo8DBQAzwH3J1jmUWAYsBu4FihNsIzTtq3DunVQUOBTpCIiOSaM\n1zEUAI9jyaEnMAo4Lm6Zc4Gjge7AT4Enk63skkvcpFBaCsOGQdxgVfmipKQk6BBCQ/siSvsiSvui\n9vxMDP2A5cAqYB8wAbgobpkLgcgwiR8BLYC2iVZ22cUxPY6uuAKSjFiY6/Slj9K+iNK+iNK+qD0/\nG587Amti7q8FTvWwzBHApviVnTmmr3ociYhkgJ+Jweslx/H1XwlfV2fMGBg9Wj2ORER85udRtj9Q\nhLUxANwOlFOxAfopoASrZgJYAvyQyiWG5UA3n+IUEclVK7B23NCohwXVFWgAzCdx4/Nb7u3+wIeZ\nCk5ERIIxDFiKnfHf7j72M/cv4nH3+U+BkzManYiIiIiIZJehWDvDMuB3SZZ51H3+U+CkDMUVhKr2\nxZXYPlgAvAccn7nQMs7L9wKgL7Af+HEmggqAl/1QiF0k+hnWfperqtoXhwEzsCrsz7CLZ3PVC1i7\nbOWJqKOy9rhZgFUpdQXqU3WbxKnkbpuEl31xGtDcvT2U/N4XkeX+BbwJXJKp4DLIy35oASzCunyD\nHRxzkZd9UQTc694+DNhCFo0NV01nYgf7ZImh2sfNMA27ndYL4rKcl33xAbDdvf0R0YNBrvGyLwB+\nCUwCvs5YZJnlZT9cAUzGrgcC+CZTwWWYl32xAWjm3m6GJYb9GYov02YDqQa6qvZxM0yJIdHFbh09\nLJOLB0Qv+yLWdUTPCHKN1+/FRUSHVMnFafu87IfuQCvgHWAOMDozoWWcl33xLNALWI9Vn/w6M6GF\nUrWPm2EqWqX1grgsV533NBD4CXCGT7EEzcu+eBj4D3fZOmTPqMHV4WU/1Md69g0CGmGlyg+xuuVc\n4mVf/B6rYirEroF6GzgB2OlfWKFWreNmmBLDOqBTzP1ORIvEyZY5wn0s13jZF2ANzs9ibQy5Omay\nl33Rh+hFkodh3aT3AdN8jy5zvOyHNVj10R7379/YwTDXEoOXfXE6cLd7ewWwEjgGK0nlm6w+buqC\nuCgv+6IzVs/aP6ORZZ6XfRHrRXKzV5KX/XAs8E+scbYR1hjZM3MhZoyXffEgcJd7uy2WOFplKL4g\ndMVb43NWHjd1QVxUVfviOaxBrdT9+zjTAWaQl+9FRK4mBvC2H27FeiYtBH6V0egyq6p9cRjwBnac\nWIg1zOeq8VhbShlWavwJ+XvcFBEREREREREREREREREREREREREREamOA0SvyyjFLuJL5rs0bO8l\n4Et3W3Op2cWCz2IXloENwxDrvRpHVlFkvywApgBNqlj+BKyfv4hI1qvOODbpGPMm9mK4H2EX/9SG\nX+PwxK73JWBMFctfCzzmUyySB8I0uqpIvMbYEA9zsbPlCxMs0x4bE6gUu8J1gPv4OcD77muL3XUl\nEhlcbDbRSdNvcde1kOionI2B6djwCwuBke7jJdhYTfcBh7pxvOw+FynVTMCGJYh4CUtIdYH/xq5a\n/xT4aZIYY32ADQoHNvz0+8A8rHTSAxsi4k/AZW4sI93YX8CGXJ5H4v0oIhJK+4lWI03Gxvxp6j53\nGBUHg4ucRY8hWoVTF6tmOQz4X+xADTbD1x8TbO9FopP6jMQOuidjSehQ7ID6GXCiu9wzMa+NjPX/\nDtEhBuJLDJH7w7FkAHbgXg0cgiWCO9zHDwE+wca8iRdZTwG2X25w7zd1HwMYjM1HAXANNmNXxD3Y\njH9gY/EvxcZSEkkoTKOriuyh4rSD9bFZuM4EyoEOQBtgc8wyH2Nnw/WB17Az70Js8Lj33WUaxNyO\nVQc7Y/+Du87rsCqlKW4suLfPxKaJfAArGbwJvFuN9zUDeMSNYxiWtPZipZrewAh3uWZYqWVV3Osj\nJZGO7nNPuY+3AMa5r3GI/p7jhx4/B7gAG0cJLAl1whKESCVKDBJmV2Jn/ydjDbArgYZxy8zGDtzn\nY2flD2JDkL9N1QOnOdjBckrMY4OpeFCt4y63DEta5wH/CcwC/uzxfXyPVTkNAS7FBj2LuMmNNZVI\nwjwUmIlNSjTV3f4s4GKgC6nneP4xuTf8tvhEbQwSZs2wM/kD2IREXRIs0xmbzvM59+8kbFjhM4jW\nxTfGZjdLJH4Ck9lY1U+kKmm4+1h77AD/ClZySDSh+j6Sn2z9HRv1MlL6ADvI3xDzmh6kruLZg42Y\nercbdzNsVE2A/xOz3A6iVXCR7cSOtJpVk8GLSH7bEXe/NVYFtACrLlpEtAtrZNlrsMbgeVgVTSR5\nDCTaqPspVqKIl2yI7t8QbXyOHFDPcdcTGeI80q4Q28ZwH7CYaONz7Puphw2T/nzMY3Wwg/wCd1uz\niLZdxIrfL9OwxuX+WHXQPKz08KX7fEs3xkjjc0Os+mkB1maSSxMYiYiIiIiIiIiIiIiIiIiIiIiI\niIiIiIiIiIiISK74/6zml5s1YiHbAAAAAElFTkSuQmCC\n",
       "text": [
        "<matplotlib.figure.Figure at 0x110ed8250>"
       ],
       "metadata": {}
      }
     ],
     "input": [
      "false_positive_rate, true_positive_rate, thresholds = roc_curve(y_test,predictedLabelsDT)\n",
      "roc_auc = auc(false_positive_rate, true_positive_rate)\n",
      "\n",
      "\n",
      "\n",
      "plt.title('Receiver Operating Characteristic Decision Trees')\n",
      "plt.plot(false_positive_rate, true_positive_rate, 'b',\n",
      "label='AUC = %0.2f'% roc_auc)\n",
      "plt.legend(loc='lower right')\n",
      "plt.plot([0,1],[0,1],'r--')\n",
      "plt.xlim([0,1])\n",
      "plt.ylim([0,1])\n",
      "plt.ylabel('True Positive Rate')\n",
      "plt.xlabel('False Positive Rate')\n",
      "plt.show()"
     ],
     "language": "python",
     "prompt_number": 19
    }
   ]
  }
 ],
 "cells": [],
 "metadata": {},
 "nbformat": 3,
 "nbformat_minor": 0
}%                                          
